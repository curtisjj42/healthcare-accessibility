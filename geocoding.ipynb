{
 "cells": [
  {
   "cell_type": "code",
   "outputs": [],
   "source": [
    "import pandas as pd\n",
    "import re\n",
    "\n",
    "def normalize_string(s):\n",
    "    return re.sub(r'[^\\w\\s]', '', s).lower()\n",
    "\n",
    "sites_df = pd.read_excel('health-care-capacity-dashboard-10-16-2024_updated.xlsx', sheet_name=None)"
   ],
   "metadata": {
    "collapsed": false,
    "ExecuteTime": {
     "end_time": "2024-11-22T18:49:30.286588400Z",
     "start_time": "2024-11-22T18:49:28.297990Z"
    }
   },
   "id": "4cf392a2cdb51aac",
   "execution_count": 1
  },
  {
   "cell_type": "code",
   "outputs": [],
   "source": [
    "hospital_df = sites_df['Hospital Information']\n",
    "hospital_df['Facility type'] = 'Hospital'\n",
    "hospital_df.rename(columns={'Short name': 'Facility name'}, inplace=True)\n",
    "\n",
    "snf_df = sites_df['Nursing home information']\n",
    "dist_df = sites_df['Nursing homes within 30 minutes']"
   ],
   "metadata": {
    "collapsed": false
   },
   "id": "129e40a970bc8e91"
  },
  {
   "cell_type": "code",
   "outputs": [],
   "source": [
    "hospital_df['norm_address'] = hospital_df['Address'].apply(normalize_string)\n",
    "hospital_df['norm_name'] = hospital_df['Facility name'].apply(normalize_string)\n",
    "hospital_df['norm_full_name'] = hospital_df['Hospital'].apply(normalize_string)\n",
    "\n",
    "snf_df['norm_address'] = snf_df['Address'].apply(normalize_string)\n",
    "snf_df['norm_name'] = snf_df['Facility name'].apply(normalize_string)\n",
    "\n",
    "dist_df['norm_hosp'] = dist_df['Hospital'].apply(normalize_string)\n",
    "dist_df['norm_snf'] = dist_df['Nursing homes within 30 minutes drive time'].apply(normalize_string)"
   ],
   "metadata": {
    "collapsed": false,
    "ExecuteTime": {
     "end_time": "2024-11-22T18:49:30.318159Z",
     "start_time": "2024-11-22T18:49:30.299068Z"
    }
   },
   "id": "ed6b13a2eeda415f",
   "execution_count": 4
  },
  {
   "cell_type": "code",
   "outputs": [],
   "source": [
    "snf_30_count = dist_df[['norm_hosp', 'Nursing homes within 30 minutes drive time']].groupby(['norm_hosp']).count()\n",
    "hosp_30_count = dist_df[['norm_snf', 'norm_hosp']].groupby(['norm_snf']).count()\n",
    "hosp_30_count.rename(columns={'norm_hosp': 'Hospitals within 30 minutes drive time'}, inplace=True)"
   ],
   "metadata": {
    "collapsed": false,
    "ExecuteTime": {
     "end_time": "2024-11-22T18:49:30.333332100Z",
     "start_time": "2024-11-22T18:49:30.322483600Z"
    }
   },
   "id": "7b6238b20dc78746",
   "execution_count": 6
  },
  {
   "cell_type": "code",
   "outputs": [],
   "source": [
    "mass_df = pd.merge(hospital_df, snf_30_count, how='left', left_on='norm_full_name', right_on='norm_hosp')\n",
    "\n",
    "facility_info = pd.concat([mass_df, snf_df], ignore_index=True)\n",
    "facility_info = pd.merge(facility_info, hosp_30_count, how='left', left_on='norm_name', right_on='norm_snf')\n",
    "\n",
    "facility_info['Hospitals within 30 minutes drive time'] = facility_info['Hospitals within 30 minutes drive time'].combine_first(facility_info['Number of hospitals within 30 minute drive time'])\n",
    "facility_info['norm_name'] = facility_info['norm_full_name'].combine_first(facility_info['norm_name'])\n",
    "\n",
    "facility_info.drop(columns=['Number of hospitals within 30 minute drive time', 'norm_full_name'], inplace=True)"
   ],
   "metadata": {
    "collapsed": false,
    "ExecuteTime": {
     "end_time": "2024-11-22T18:49:30.405708400Z",
     "start_time": "2024-11-22T18:49:30.349422400Z"
    }
   },
   "id": "7bc535755e694109",
   "execution_count": 10
  },
  {
   "cell_type": "code",
   "outputs": [
    {
     "data": {
      "text/plain": "    IDNUMBER                                     Hospital  \\\n0       2014  North Shore Medical Center - Salem Hospital   \n1       2059                 New England Baptist Hospital   \n2       2107                         South Shore Hospital   \n3       2058                   Melrose-Wakefield Hospital   \n4       2022                      Steward Morton Hospital   \n..       ...                                          ...   \n422      NaN                                          NaN   \n423      NaN                                          NaN   \n424      NaN                                          NaN   \n425      NaN                                          NaN   \n426      NaN                                          NaN   \n\n                                         Facility name  \\\n0                                       Salem Hospital   \n1                         New England Baptist Hospital   \n2                                 South Shore Hospital   \n3                           Melrose-Wakefield Hospital   \n4                                      Morton Hospital   \n..                                                 ...   \n422    Cedar View Rehabilitation and Healthcare Center   \n423                Life Care Center of the South Shore   \n424                    German Center for Extended Care   \n425                            Vantage at South Hadley   \n426  Chestnut Woods Rehabilitation & Healthcare Center   \n\n                    Address          Town  ZIP code  \\\n0        81 Highland Avenue         Salem      1970   \n1    125 Parker Hill Avenue        Boston      2120   \n2              55 Fogg Road      Weymouth      2190   \n3        585 Lebanon Street       Melrose      2176   \n4      88 Washington Street       Taunton      2780   \n..                      ...           ...       ...   \n422      480 Jackson Street       Methuen      1844   \n423            309 Driftway      Scituate      2066   \n424      2222 Centre Street        Boston      2132   \n425         573 Granby Road  South Hadley      1075   \n426      73 Chestnut Street        Saugus      1906   \n\n                    CHIA region                      Type of hospital  \\\n0    Northeastern Massachusetts  Community-High Public Payer Hospital   \n1                  Metro Boston                    Specialty Hospital   \n2                   Metro South                    Community Hospital   \n3                  Metro Boston  Community-High Public Payer Hospital   \n4                   Metro South  Community-High Public Payer Hospital   \n..                          ...                                   ...   \n422  Northeastern Massachusetts                                   NaN   \n423                 Metro South                                   NaN   \n424                Metro Boston                                   NaN   \n425       Western Massachusetts                                   NaN   \n426                Metro Boston                                   NaN   \n\n               Hospital system       Telephone Facility type  \\\n0         Mass General Brigham  (978) 741-1200      Hospital   \n1     Beth Israel Lahey Health  (617) 754-5000      Hospital   \n2    South Shore Health System  (781) 624-8000      Hospital   \n3               Tufts Medicine  (781) 979-3000      Hospital   \n4          Steward Health Care  (508) 828-7000      Hospital   \n..                         ...             ...           ...   \n422                        NaN             NaN  Nursing home   \n423                        NaN             NaN  Nursing home   \n424                        NaN             NaN  Nursing home   \n425                        NaN             NaN  Nursing home   \n426                        NaN             NaN  Nursing home   \n\n               norm_address                                         norm_name  \\\n0        81 highland avenue        north shore medical center  salem hospital   \n1    125 parker hill avenue                      new england baptist hospital   \n2              55 fogg road                              south shore hospital   \n3        585 lebanon street                         melrosewakefield hospital   \n4      88 washington street                           steward morton hospital   \n..                      ...                                               ...   \n422      480 jackson street   cedar view rehabilitation and healthcare center   \n423            309 driftway               life care center of the south shore   \n424      2222 centre street                   german center for extended care   \n425         573 granby road                           vantage at south hadley   \n426      73 chestnut street  chestnut woods rehabilitation  healthcare center   \n\n     Nursing homes within 30 minutes drive time  \\\n0                                          28.0   \n1                                          48.0   \n2                                          53.0   \n3                                          56.0   \n4                                          31.0   \n..                                          ...   \n422                                         NaN   \n423                                         NaN   \n424                                         NaN   \n425                                         NaN   \n426                                         NaN   \n\n     Hospitals within 30 minutes drive time  \n0                                       3.0  \n1                                      18.0  \n2                                      11.0  \n3                                      16.0  \n4                                       4.0  \n..                                      ...  \n422                                     9.0  \n423                                     1.0  \n424                                    17.0  \n425                                     6.0  \n426                                    16.0  \n\n[427 rows x 15 columns]",
      "text/html": "<div>\n<style scoped>\n    .dataframe tbody tr th:only-of-type {\n        vertical-align: middle;\n    }\n\n    .dataframe tbody tr th {\n        vertical-align: top;\n    }\n\n    .dataframe thead th {\n        text-align: right;\n    }\n</style>\n<table border=\"1\" class=\"dataframe\">\n  <thead>\n    <tr style=\"text-align: right;\">\n      <th></th>\n      <th>IDNUMBER</th>\n      <th>Hospital</th>\n      <th>Facility name</th>\n      <th>Address</th>\n      <th>Town</th>\n      <th>ZIP code</th>\n      <th>CHIA region</th>\n      <th>Type of hospital</th>\n      <th>Hospital system</th>\n      <th>Telephone</th>\n      <th>Facility type</th>\n      <th>norm_address</th>\n      <th>norm_name</th>\n      <th>Nursing homes within 30 minutes drive time</th>\n      <th>Hospitals within 30 minutes drive time</th>\n    </tr>\n  </thead>\n  <tbody>\n    <tr>\n      <th>0</th>\n      <td>2014</td>\n      <td>North Shore Medical Center - Salem Hospital</td>\n      <td>Salem Hospital</td>\n      <td>81 Highland Avenue</td>\n      <td>Salem</td>\n      <td>1970</td>\n      <td>Northeastern Massachusetts</td>\n      <td>Community-High Public Payer Hospital</td>\n      <td>Mass General Brigham</td>\n      <td>(978) 741-1200</td>\n      <td>Hospital</td>\n      <td>81 highland avenue</td>\n      <td>north shore medical center  salem hospital</td>\n      <td>28.0</td>\n      <td>3.0</td>\n    </tr>\n    <tr>\n      <th>1</th>\n      <td>2059</td>\n      <td>New England Baptist Hospital</td>\n      <td>New England Baptist Hospital</td>\n      <td>125 Parker Hill Avenue</td>\n      <td>Boston</td>\n      <td>2120</td>\n      <td>Metro Boston</td>\n      <td>Specialty Hospital</td>\n      <td>Beth Israel Lahey Health</td>\n      <td>(617) 754-5000</td>\n      <td>Hospital</td>\n      <td>125 parker hill avenue</td>\n      <td>new england baptist hospital</td>\n      <td>48.0</td>\n      <td>18.0</td>\n    </tr>\n    <tr>\n      <th>2</th>\n      <td>2107</td>\n      <td>South Shore Hospital</td>\n      <td>South Shore Hospital</td>\n      <td>55 Fogg Road</td>\n      <td>Weymouth</td>\n      <td>2190</td>\n      <td>Metro South</td>\n      <td>Community Hospital</td>\n      <td>South Shore Health System</td>\n      <td>(781) 624-8000</td>\n      <td>Hospital</td>\n      <td>55 fogg road</td>\n      <td>south shore hospital</td>\n      <td>53.0</td>\n      <td>11.0</td>\n    </tr>\n    <tr>\n      <th>3</th>\n      <td>2058</td>\n      <td>Melrose-Wakefield Hospital</td>\n      <td>Melrose-Wakefield Hospital</td>\n      <td>585 Lebanon Street</td>\n      <td>Melrose</td>\n      <td>2176</td>\n      <td>Metro Boston</td>\n      <td>Community-High Public Payer Hospital</td>\n      <td>Tufts Medicine</td>\n      <td>(781) 979-3000</td>\n      <td>Hospital</td>\n      <td>585 lebanon street</td>\n      <td>melrosewakefield hospital</td>\n      <td>56.0</td>\n      <td>16.0</td>\n    </tr>\n    <tr>\n      <th>4</th>\n      <td>2022</td>\n      <td>Steward Morton Hospital</td>\n      <td>Morton Hospital</td>\n      <td>88 Washington Street</td>\n      <td>Taunton</td>\n      <td>2780</td>\n      <td>Metro South</td>\n      <td>Community-High Public Payer Hospital</td>\n      <td>Steward Health Care</td>\n      <td>(508) 828-7000</td>\n      <td>Hospital</td>\n      <td>88 washington street</td>\n      <td>steward morton hospital</td>\n      <td>31.0</td>\n      <td>4.0</td>\n    </tr>\n    <tr>\n      <th>...</th>\n      <td>...</td>\n      <td>...</td>\n      <td>...</td>\n      <td>...</td>\n      <td>...</td>\n      <td>...</td>\n      <td>...</td>\n      <td>...</td>\n      <td>...</td>\n      <td>...</td>\n      <td>...</td>\n      <td>...</td>\n      <td>...</td>\n      <td>...</td>\n      <td>...</td>\n    </tr>\n    <tr>\n      <th>422</th>\n      <td>NaN</td>\n      <td>NaN</td>\n      <td>Cedar View Rehabilitation and Healthcare Center</td>\n      <td>480 Jackson Street</td>\n      <td>Methuen</td>\n      <td>1844</td>\n      <td>Northeastern Massachusetts</td>\n      <td>NaN</td>\n      <td>NaN</td>\n      <td>NaN</td>\n      <td>Nursing home</td>\n      <td>480 jackson street</td>\n      <td>cedar view rehabilitation and healthcare center</td>\n      <td>NaN</td>\n      <td>9.0</td>\n    </tr>\n    <tr>\n      <th>423</th>\n      <td>NaN</td>\n      <td>NaN</td>\n      <td>Life Care Center of the South Shore</td>\n      <td>309 Driftway</td>\n      <td>Scituate</td>\n      <td>2066</td>\n      <td>Metro South</td>\n      <td>NaN</td>\n      <td>NaN</td>\n      <td>NaN</td>\n      <td>Nursing home</td>\n      <td>309 driftway</td>\n      <td>life care center of the south shore</td>\n      <td>NaN</td>\n      <td>1.0</td>\n    </tr>\n    <tr>\n      <th>424</th>\n      <td>NaN</td>\n      <td>NaN</td>\n      <td>German Center for Extended Care</td>\n      <td>2222 Centre Street</td>\n      <td>Boston</td>\n      <td>2132</td>\n      <td>Metro Boston</td>\n      <td>NaN</td>\n      <td>NaN</td>\n      <td>NaN</td>\n      <td>Nursing home</td>\n      <td>2222 centre street</td>\n      <td>german center for extended care</td>\n      <td>NaN</td>\n      <td>17.0</td>\n    </tr>\n    <tr>\n      <th>425</th>\n      <td>NaN</td>\n      <td>NaN</td>\n      <td>Vantage at South Hadley</td>\n      <td>573 Granby Road</td>\n      <td>South Hadley</td>\n      <td>1075</td>\n      <td>Western Massachusetts</td>\n      <td>NaN</td>\n      <td>NaN</td>\n      <td>NaN</td>\n      <td>Nursing home</td>\n      <td>573 granby road</td>\n      <td>vantage at south hadley</td>\n      <td>NaN</td>\n      <td>6.0</td>\n    </tr>\n    <tr>\n      <th>426</th>\n      <td>NaN</td>\n      <td>NaN</td>\n      <td>Chestnut Woods Rehabilitation &amp; Healthcare Center</td>\n      <td>73 Chestnut Street</td>\n      <td>Saugus</td>\n      <td>1906</td>\n      <td>Metro Boston</td>\n      <td>NaN</td>\n      <td>NaN</td>\n      <td>NaN</td>\n      <td>Nursing home</td>\n      <td>73 chestnut street</td>\n      <td>chestnut woods rehabilitation  healthcare center</td>\n      <td>NaN</td>\n      <td>16.0</td>\n    </tr>\n  </tbody>\n</table>\n<p>427 rows × 15 columns</p>\n</div>"
     },
     "execution_count": 16,
     "metadata": {},
     "output_type": "execute_result"
    }
   ],
   "source": [
    "facility_info"
   ],
   "metadata": {
    "collapsed": false,
    "ExecuteTime": {
     "end_time": "2024-11-22T18:49:30.457377200Z",
     "start_time": "2024-11-22T18:49:30.393725600Z"
    }
   },
   "id": "f00bcd57b125edc1",
   "execution_count": 16
  },
  {
   "cell_type": "code",
   "outputs": [],
   "source": [],
   "metadata": {
    "collapsed": false
   },
   "id": "d066447aa65617dc"
  }
 ],
 "metadata": {
  "kernelspec": {
   "display_name": "Python 3",
   "language": "python",
   "name": "python3"
  },
  "language_info": {
   "codemirror_mode": {
    "name": "ipython",
    "version": 2
   },
   "file_extension": ".py",
   "mimetype": "text/x-python",
   "name": "python",
   "nbconvert_exporter": "python",
   "pygments_lexer": "ipython2",
   "version": "2.7.6"
  }
 },
 "nbformat": 4,
 "nbformat_minor": 5
}
